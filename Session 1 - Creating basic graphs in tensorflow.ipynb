{
 "cells": [
  {
   "cell_type": "markdown",
   "metadata": {},
   "source": [
    "### Graphs and Session\n",
    "\n",
    "- tensorflow is a declarative pragramming env\n",
    "    - dataflow graph represents the computation\n",
    "        - tf supports java, c++, go\n",
    "    - sesssion executes the data flow"
   ]
  },
  {
   "cell_type": "markdown",
   "metadata": {},
   "source": [
    "### Advantages of Dataflow\n",
    "\n",
    "- Parallelism\n",
    "- Distributed execution\n",
    "- Compilation\n",
    "- Portability\n",
    "\n",
    "- Node\n",
    "    - Data node\n",
    "    - \n",
    "    - "
   ]
  },
  {
   "cell_type": "code",
   "execution_count": 51,
   "metadata": {
    "collapsed": true
   },
   "outputs": [],
   "source": [
    "import tensorflow as tf"
   ]
  },
  {
   "cell_type": "code",
   "execution_count": 52,
   "metadata": {
    "collapsed": true
   },
   "outputs": [],
   "source": [
    "a = tf.random_uniform([5, 5])\n",
    "b = tf.random_uniform([5, 5])\n",
    "c = tf.matmul(a, b)"
   ]
  },
  {
   "cell_type": "code",
   "execution_count": 53,
   "metadata": {
    "collapsed": true
   },
   "outputs": [],
   "source": [
    "init = tf.global_variables_initializer()"
   ]
  },
  {
   "cell_type": "code",
   "execution_count": 54,
   "metadata": {},
   "outputs": [
    {
     "name": "stdout",
     "output_type": "stream",
     "text": [
      "[[ 1.31543756  1.22865129  1.35703933  2.18017364  2.23766136]\n",
      " [ 1.02145875  0.71647972  0.6548577   0.95769966  1.126863  ]\n",
      " [ 1.19082963  2.05526733  1.25615788  2.15626359  2.32427835]\n",
      " [ 0.58163869  0.24022201  0.31769931  0.739115    0.81857741]\n",
      " [ 0.45718658  0.83472401  0.53333449  1.3279289   1.55229342]] \n",
      " <class 'numpy.ndarray'> \n",
      " 5\n"
     ]
    }
   ],
   "source": [
    "#  Method 1:\n",
    "session = tf.Session()\n",
    "session.run(init)\n",
    "\n",
    "out = session.run(c)\n",
    "print(out, '\\n', type(out), '\\n', len(out))\n",
    "\n",
    "session.close()"
   ]
  },
  {
   "cell_type": "code",
   "execution_count": 55,
   "metadata": {},
   "outputs": [
    {
     "name": "stdout",
     "output_type": "stream",
     "text": [
      "[[ 0.85252517  1.17841733  0.83190066  1.10231376  0.41488752]\n",
      " [ 1.5291388   1.63803101  1.29957366  1.62309432  0.4828321 ]\n",
      " [ 1.08512032  1.24461472  0.76624453  1.27083194  0.31568229]\n",
      " [ 1.2388463   1.47748804  1.32231808  1.36917841  0.56449604]\n",
      " [ 0.89621842  0.98823392  0.71799749  0.96418709  0.16511238]] \n",
      " <class 'numpy.ndarray'> \n",
      " 5\n"
     ]
    }
   ],
   "source": [
    "# Method 2:\n",
    "with tf.Session() as session:\n",
    "    session.run(init)\n",
    "    out = session.run(c)\n",
    "    print(out, '\\n', type(out), '\\n', len(out))\n"
   ]
  },
  {
   "cell_type": "markdown",
   "metadata": {},
   "source": [
    "*****"
   ]
  },
  {
   "cell_type": "markdown",
   "metadata": {},
   "source": [
    "### Execution Graph"
   ]
  },
  {
   "cell_type": "code",
   "execution_count": 70,
   "metadata": {},
   "outputs": [],
   "source": [
    "writer = tf.summary.FileWriter('./tmp/1', session.graph)"
   ]
  },
  {
   "cell_type": "code",
   "execution_count": 57,
   "metadata": {},
   "outputs": [],
   "source": [
    "x = tf.placeholder(tf.float32, [None, 5])\n",
    "y = tf.placeholder(tf.float32, [5, None])\n",
    "xy = tf.matmul(x, y)"
   ]
  },
  {
   "cell_type": "code",
   "execution_count": 58,
   "metadata": {
    "collapsed": true
   },
   "outputs": [],
   "source": [
    "import numpy as np"
   ]
  },
  {
   "cell_type": "code",
   "execution_count": 59,
   "metadata": {},
   "outputs": [
    {
     "name": "stdout",
     "output_type": "stream",
     "text": [
      "a:\n",
      "[[ 0.73112204  0.93343925  0.81318348  0.54219148  0.24975321]\n",
      " [ 0.1541531   0.43154878  0.68637096  0.20584984  0.79464257]\n",
      " [ 0.79630278  0.62939896  0.35055138  0.2619002   0.86964   ]]\n",
      "b:\n",
      "[[ 0.39525646  0.92526418  0.358291  ]\n",
      " [ 0.08454691  0.16568534  0.24908032]\n",
      " [ 0.60887516  0.48663062  0.1518358 ]\n",
      " [ 0.70958797  0.73527683  0.6517879 ]\n",
      " [ 0.35413619  0.10381448  0.40417918]]\n"
     ]
    }
   ],
   "source": [
    "a = np.random.rand(3, 5)\n",
    "b = np.random.rand(5, 3)\n",
    "print(\"a:\")\n",
    "print(a)\n",
    "print(\"b:\")\n",
    "print(b)"
   ]
  },
  {
   "cell_type": "code",
   "execution_count": 60,
   "metadata": {},
   "outputs": [
    {
     "name": "stdout",
     "output_type": "stream",
     "text": [
      "[[ 1.33620656  1.65144706  1.07226503]\n",
      " [ 0.94281065  0.78199482  0.72228611]\n",
      " [ 1.07521176  1.29451215  1.01749897]]\n"
     ]
    }
   ],
   "source": [
    "with tf.Session() as session:\n",
    "    out = session.run(xy, feed_dict={x:a, y:b})\n",
    "    print(out)"
   ]
  },
  {
   "cell_type": "code",
   "execution_count": 65,
   "metadata": {
    "collapsed": true
   },
   "outputs": [],
   "source": [
    "# tf.reset_default_graph()"
   ]
  },
  {
   "cell_type": "code",
   "execution_count": 66,
   "metadata": {},
   "outputs": [],
   "source": [
    "W = tf.Variable(tf.random_uniform([5, 1]))\n",
    "x = tf.placeholder(tf.float32, [None, 5])\n",
    "b = tf.Variable(tf.random_uniform([25, 1]))\n",
    "Wx = tf.matmul(x, W)\n",
    "Wxb = tf.add(Wx, b)"
   ]
  },
  {
   "cell_type": "code",
   "execution_count": 67,
   "metadata": {},
   "outputs": [
    {
     "name": "stdout",
     "output_type": "stream",
     "text": [
      "Tensor(\"Placeholder:0\", shape=(?, 5), dtype=float32)\n"
     ]
    }
   ],
   "source": [
    "x_value = np.random.rand(25,5)\n",
    "print(x)"
   ]
  },
  {
   "cell_type": "code",
   "execution_count": 69,
   "metadata": {},
   "outputs": [
    {
     "name": "stdout",
     "output_type": "stream",
     "text": [
      "[[ 0.93331105]\n",
      " [ 1.2390213 ]\n",
      " [ 1.55630231]\n",
      " [ 1.08631551]\n",
      " [ 1.56019068]\n",
      " [ 0.87990153]\n",
      " [ 1.02167344]\n",
      " [ 1.38704801]\n",
      " [ 1.82483721]\n",
      " [ 1.28297138]\n",
      " [ 2.02176046]\n",
      " [ 1.22899103]\n",
      " [ 1.52890098]\n",
      " [ 1.62631297]\n",
      " [ 1.31277454]\n",
      " [ 1.49795651]\n",
      " [ 1.74621141]\n",
      " [ 1.28717613]\n",
      " [ 0.84472275]\n",
      " [ 1.04464257]\n",
      " [ 0.89668584]\n",
      " [ 1.6366452 ]\n",
      " [ 1.24484181]\n",
      " [ 1.53515899]\n",
      " [ 1.53715181]]\n"
     ]
    }
   ],
   "source": [
    "init = tf.global_variables_initializer()\n",
    "with tf.Session() as session:\n",
    "    session.run(init)\n",
    "    out = session.run(Wx, feed_dict={x:x_value})\n",
    "    print(out)"
   ]
  },
  {
   "cell_type": "code",
   "execution_count": null,
   "metadata": {
    "collapsed": true
   },
   "outputs": [],
   "source": []
  },
  {
   "cell_type": "code",
   "execution_count": null,
   "metadata": {
    "collapsed": true
   },
   "outputs": [],
   "source": []
  }
 ],
 "metadata": {
  "kernelspec": {
   "display_name": "Python 3",
   "language": "python",
   "name": "python3"
  },
  "language_info": {
   "codemirror_mode": {
    "name": "ipython",
    "version": 3
   },
   "file_extension": ".py",
   "mimetype": "text/x-python",
   "name": "python",
   "nbconvert_exporter": "python",
   "pygments_lexer": "ipython3",
   "version": "3.6.3"
  }
 },
 "nbformat": 4,
 "nbformat_minor": 2
}
