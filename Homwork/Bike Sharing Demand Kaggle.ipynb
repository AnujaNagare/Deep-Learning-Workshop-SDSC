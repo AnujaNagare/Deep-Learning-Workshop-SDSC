{
 "cells": [
  {
   "cell_type": "markdown",
   "metadata": {},
   "source": [
    "## Dataset: Bike Sharing Demand Kaggle\n",
    "Ref : https://www.kaggle.com/c/bike-sharing-demand/data\n",
    "\n",
    "\n",
    "### Data Fields\n",
    "    datetime - hourly date + timestamp  \n",
    "    season -  1 = spring, 2 = summer, 3 = fall, 4 = winter \n",
    "    holiday - whether the day is considered a holiday\n",
    "    workingday - whether the day is neither a weekend nor holiday\n",
    "    weather - 1: Clear, Few clouds, Partly cloudy, Partly cloudy\n",
    "    2: Mist + Cloudy, Mist + Broken clouds, Mist + Few clouds, Mist\n",
    "    3: Light Snow, Light Rain + Thunderstorm + Scattered clouds, Light Rain + Scattered clouds\n",
    "    4: Heavy Rain + Ice Pallets + Thunderstorm + Mist, Snow + Fog \n",
    "    temp - temperature in Celsius\n",
    "    atemp - \"feels like\" temperature in Celsius\n",
    "    humidity - relative humidity\n",
    "    windspeed - wind speed\n",
    "    casual - number of non-registered user rentals initiated\n",
    "    registered - number of registered user rentals initiated\n",
    "    count - number of total rentals\n"
   ]
  },
  {
   "cell_type": "code",
   "execution_count": 3,
   "metadata": {},
   "outputs": [],
   "source": [
    "import tensorflow as tf\n",
    "import numpy as np\n",
    "import matplotlib.pyplot as plt\n",
    "import keras\n",
    "from keras.datasets import imdb\n",
    "%matplotlib inline"
   ]
  },
  {
   "cell_type": "code",
   "execution_count": null,
   "metadata": {
    "collapsed": true
   },
   "outputs": [],
   "source": []
  }
 ],
 "metadata": {
  "kernelspec": {
   "display_name": "Python 3",
   "language": "python",
   "name": "python3"
  },
  "language_info": {
   "codemirror_mode": {
    "name": "ipython",
    "version": 3
   },
   "file_extension": ".py",
   "mimetype": "text/x-python",
   "name": "python",
   "nbconvert_exporter": "python",
   "pygments_lexer": "ipython3",
   "version": "3.6.3"
  }
 },
 "nbformat": 4,
 "nbformat_minor": 2
}
