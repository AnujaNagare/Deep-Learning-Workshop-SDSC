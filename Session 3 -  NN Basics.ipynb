{
 "cells": [
  {
   "cell_type": "markdown",
   "metadata": {},
   "source": [
    "### Common Error function\n",
    "\n",
    "- Cross Entropy\n",
    "    - good of using with probabilities\n",
    "    - works well for classification problem\n",
    "    - works well for logistic problems\n",
    "    \n",
    "- Mean Squared Error\n",
    "    - continuous "
   ]
  },
  {
   "cell_type": "code",
   "execution_count": 15,
   "metadata": {},
   "outputs": [
    {
     "name": "stdout",
     "output_type": "stream",
     "text": [
      "-2.294616923344869\n",
      "-1.4473190629576653\n"
     ]
    }
   ],
   "source": [
    "import math\n",
    "print(math.log(0.3*0.6*0.7*0.8))\n",
    "print(math.log(0.7*0.7*0.6*0.8))"
   ]
  },
  {
   "cell_type": "code",
   "execution_count": 16,
   "metadata": {},
   "outputs": [
    {
     "name": "stdout",
     "output_type": "stream",
     "text": [
      "-0.9965394678904935\n",
      "-0.6285626825958992\n"
     ]
    }
   ],
   "source": [
    "print(math.log10(0.3*0.6*0.7*0.8))\n",
    "print(math.log10(0.7*0.7*0.6*0.8))"
   ]
  },
  {
   "cell_type": "code",
   "execution_count": 24,
   "metadata": {},
   "outputs": [
    {
     "name": "stdout",
     "output_type": "stream",
     "text": [
      "-0.8493487537726558\n"
     ]
    }
   ],
   "source": [
    "p= 0.6\n",
    "print(sum([(p * (math.log10(0.3*0.6*0.7*0.8))) , ((1-p) * (math.log10(0.7*0.7*0.6*0.8)))]))"
   ]
  },
  {
   "cell_type": "markdown",
   "metadata": {},
   "source": [
    "### Common optimizers\n",
    "\n",
    "- AdamOptimizer\n",
    "- RMSPropOptimizer\n",
    "- AdaGrad\n"
   ]
  },
  {
   "cell_type": "markdown",
   "metadata": {},
   "source": [
    "### Activation Function\n",
    "\n",
    "- Sigmoid (vanishing gradient problem)\n",
    "- tanh (common in continuous algo)\n",
    "- Relu (default in most CV algo)\n",
    "    - concept is based on diods in physics (current can flow in one direction)\n",
    "        - chop off unnecesary values\n",
    "- Leaky Relu (common in LSTMs, GAN's)"
   ]
  },
  {
   "cell_type": "markdown",
   "metadata": {},
   "source": [
    "### Regularization\n",
    "\n",
    "- Penalize Large Weights\n",
    "- Make the activation function shallow, so GD works better"
   ]
  },
  {
   "cell_type": "markdown",
   "metadata": {},
   "source": [
    "### Layers\n",
    "\n",
    "- Dense\n",
    "    - fully connected layer\n",
    "- Dropout\n",
    "    - helps in reducing overfitting\n",
    "    \n",
    "- Flatten\n",
    "- Convolutional\n",
    "- Pooling\n",
    "- Locally Connected Layers\n",
    "- BasicRNNCell\n",
    "- LSTM ...\n",
    "\n",
    "\n",
    "- How important is the order of these layers ???\n",
    "- does the order of the layers affect output ???\n"
   ]
  },
  {
   "cell_type": "code",
   "execution_count": null,
   "metadata": {
    "collapsed": true
   },
   "outputs": [],
   "source": []
  }
 ],
 "metadata": {
  "kernelspec": {
   "display_name": "Python 3",
   "language": "python",
   "name": "python3"
  },
  "language_info": {
   "codemirror_mode": {
    "name": "ipython",
    "version": 3
   },
   "file_extension": ".py",
   "mimetype": "text/x-python",
   "name": "python",
   "nbconvert_exporter": "python",
   "pygments_lexer": "ipython3",
   "version": "3.6.3"
  }
 },
 "nbformat": 4,
 "nbformat_minor": 2
}
