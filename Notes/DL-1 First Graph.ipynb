{
 "cells": [
  {
   "cell_type": "markdown",
   "metadata": {},
   "source": [
    "# Let's create our first graph"
   ]
  },
  {
   "cell_type": "code",
   "execution_count": 3,
   "metadata": {
    "collapsed": true
   },
   "outputs": [],
   "source": [
    "import tensorflow as tf"
   ]
  },
  {
   "cell_type": "code",
   "execution_count": 4,
   "metadata": {
    "collapsed": true
   },
   "outputs": [],
   "source": [
    "A = tf.random_uniform([5, 5])\n",
    "B = tf.random_uniform([5, 5])\n",
    "C = tf.matmul(A, B)"
   ]
  },
  {
   "cell_type": "code",
   "execution_count": 5,
   "metadata": {
    "collapsed": false
   },
   "outputs": [
    {
     "name": "stdout",
     "output_type": "stream",
     "text": [
      "[[0.89666533 1.4180243  1.2875606  1.2395545  1.5616282 ]\n",
      " [1.5703249  1.8045712  1.3058325  1.7581294  2.0371675 ]\n",
      " [1.497572   1.8940809  1.2561579  1.5677018  1.8721936 ]\n",
      " [1.0747389  0.901188   0.7813294  0.99825114 1.0215359 ]\n",
      " [1.0249403  1.0949575  0.8678606  1.0936321  1.255387  ]]\n"
     ]
    }
   ],
   "source": [
    "init = tf.global_variables_initializer()\n",
    "session = tf.Session()\n",
    "\n",
    "session.run(init)\n",
    "print(session.run(C))\n",
    "\n",
    "session.close()"
   ]
  },
  {
   "cell_type": "code",
   "execution_count": 6,
   "metadata": {
    "collapsed": false
   },
   "outputs": [
    {
     "name": "stdout",
     "output_type": "stream",
     "text": [
      "[[1.3614898  1.850666   1.6584756  2.0973797  1.5462406 ]\n",
      " [0.4766838  0.7380792  0.82513815 1.1635473  0.7530247 ]\n",
      " [0.6015756  0.92630696 0.61216617 1.341006   0.8415443 ]\n",
      " [1.088491   1.6792341  1.3512378  2.3775315  1.5857998 ]\n",
      " [1.4437666  1.7464452  1.8040991  2.1181405  1.4295472 ]]\n"
     ]
    }
   ],
   "source": [
    "init = tf.global_variables_initializer()\n",
    "with tf.Session() as session:\n",
    "    session.run(init)\n",
    "    print(session.run(C))\n"
   ]
  },
  {
   "cell_type": "markdown",
   "metadata": {},
   "source": [
    "## Let's look at the execution graph"
   ]
  },
  {
   "cell_type": "code",
   "execution_count": 7,
   "metadata": {
    "collapsed": false
   },
   "outputs": [
    {
     "data": {
      "text/plain": [
       "<tensorflow.python.summary.writer.writer.FileWriter at 0x11f1bbd68>"
      ]
     },
     "execution_count": 7,
     "metadata": {},
     "output_type": "execute_result"
    }
   ],
   "source": [
    "tf.summary.FileWriter(\"./tmp/1\", session.graph)"
   ]
  },
  {
   "cell_type": "markdown",
   "metadata": {},
   "source": [
    "# Placeholders"
   ]
  },
  {
   "cell_type": "code",
   "execution_count": 8,
   "metadata": {
    "collapsed": true
   },
   "outputs": [],
   "source": [
    "x = tf.placeholder(tf.float32, [None, 5])\n",
    "y = tf.placeholder(tf.float32, [5, None])\n",
    "xy = tf.matmul(x, y)"
   ]
  },
  {
   "cell_type": "code",
   "execution_count": 9,
   "metadata": {
    "collapsed": true
   },
   "outputs": [],
   "source": [
    "import numpy as np"
   ]
  },
  {
   "cell_type": "code",
   "execution_count": 10,
   "metadata": {
    "collapsed": false
   },
   "outputs": [
    {
     "name": "stdout",
     "output_type": "stream",
     "text": [
      "a:\n",
      "[[0.37291008 0.79915346 0.09112732 0.63940248 0.44237312]\n",
      " [0.59505684 0.14401838 0.35347616 0.09390404 0.56202002]\n",
      " [0.10336104 0.8266979  0.59368679 0.96680386 0.9710561 ]]\n",
      "b:\n",
      "[[0.77317464 0.10787471 0.87963066 0.75745103 0.65216655 0.09055915]\n",
      " [0.86822341 0.72924638 0.9676549  0.15079365 0.38653723 0.84453986]\n",
      " [0.13376107 0.28506682 0.66589531 0.10325497 0.07614414 0.92106284]\n",
      " [0.08013564 0.02822849 0.11559255 0.09301773 0.13739791 0.08190083]\n",
      " [0.18444049 0.98475533 0.05607985 0.05523381 0.13327894 0.11422193]]\n"
     ]
    }
   ],
   "source": [
    "a = np.random.rand(3, 5)\n",
    "b = np.random.rand(5, 6)\n",
    "print(\"a:\")\n",
    "print(a)\n",
    "print(\"b:\")\n",
    "print(b)"
   ]
  },
  {
   "cell_type": "code",
   "execution_count": 15,
   "metadata": {
    "collapsed": false
   },
   "outputs": [
    {
     "name": "stdout",
     "output_type": "stream",
     "text": [
      "[[1.127188   1.1026634  1.2607274  0.49628747 0.70585245 0.89551777]\n",
      " [0.7435887  0.8260838  0.940541   0.5487189  0.5584674  0.5729767 ]\n",
      " [1.1336643  1.766801   1.4524231  0.40781784 0.694422   1.4444603 ]]\n"
     ]
    }
   ],
   "source": [
    "with tf.Session() as session:\n",
    "    print(session.run(xy, feed_dict={x: a, y:b}))"
   ]
  },
  {
   "cell_type": "markdown",
   "metadata": {},
   "source": [
    "# Variables"
   ]
  },
  {
   "cell_type": "code",
   "execution_count": 29,
   "metadata": {
    "collapsed": true
   },
   "outputs": [],
   "source": [
    "W = tf.Variable(tf.random_uniform([5, 1]))\n",
    "x = tf.placeholder(tf.float32, [None, 5])\n",
    "\n",
    "b = tf.Variable(tf.random_uniform([25,1]))\n",
    "Wx = tf.matmul(x, W)\n",
    "Wxb = tf.add(Wx, b)"
   ]
  },
  {
   "cell_type": "code",
   "execution_count": 30,
   "metadata": {
    "collapsed": false
   },
   "outputs": [
    {
     "name": "stdout",
     "output_type": "stream",
     "text": [
      "[[0.17321812 0.7270183  0.58922203 0.1862764  0.49859471]\n",
      " [0.32253781 0.08973587 0.99418603 0.74272685 0.64106922]\n",
      " [0.82386116 0.31975393 0.97073773 0.29506823 0.54428934]\n",
      " [0.04801766 0.04389338 0.66021594 0.30895307 0.49097618]\n",
      " [0.97851637 0.22847965 0.85629045 0.81564883 0.95862817]\n",
      " [0.21888626 0.88886016 0.26672016 0.77116486 0.24363931]\n",
      " [0.39395744 0.95420767 0.38959937 0.71069035 0.41730178]\n",
      " [0.72933412 0.20569895 0.21550999 0.255171   0.56901763]\n",
      " [0.36235367 0.17880369 0.66400693 0.98045507 0.4989918 ]\n",
      " [0.20673421 0.89311284 0.33952817 0.06987564 0.45099962]\n",
      " [0.30465159 0.70841394 0.15898116 0.3743943  0.93902107]\n",
      " [0.8771693  0.25742267 0.509324   0.94281542 0.51611597]\n",
      " [0.09079579 0.33040835 0.6405258  0.95031594 0.84084711]\n",
      " [0.78321431 0.50869475 0.83192471 0.38745801 0.17697001]\n",
      " [0.96036064 0.27944011 0.45468268 0.39272803 0.31997539]\n",
      " [0.75852518 0.72992963 0.4903472  0.43331973 0.94178957]\n",
      " [0.10693735 0.70666786 0.67011118 0.02078229 0.5102451 ]\n",
      " [0.60014659 0.31407425 0.78620333 0.90265708 0.53347181]\n",
      " [0.46438946 0.76248468 0.63913794 0.9066363  0.76814498]\n",
      " [0.45545046 0.54504606 0.50060414 0.85736952 0.65481099]\n",
      " [0.73777872 0.99173411 0.4299419  0.64310754 0.26064701]\n",
      " [0.62417477 0.40785997 0.30700175 0.36913175 0.68111184]\n",
      " [0.57837037 0.83684856 0.34283451 0.21313395 0.9319675 ]\n",
      " [0.31556699 0.94341774 0.20223398 0.52053409 0.0049824 ]\n",
      " [0.96880882 0.30695409 0.04284041 0.72727799 0.72883242]]\n"
     ]
    }
   ],
   "source": [
    "x_values = np.random.rand(25, 5)\n",
    "print(x_values)"
   ]
  },
  {
   "cell_type": "code",
   "execution_count": 31,
   "metadata": {
    "collapsed": false
   },
   "outputs": [
    {
     "name": "stdout",
     "output_type": "stream",
     "text": [
      "[[1.2432044]\n",
      " [1.6216048]\n",
      " [1.7469883]\n",
      " [1.3062085]\n",
      " [2.2587047]\n",
      " [1.2484851]\n",
      " [1.2298511]\n",
      " [1.2071257]\n",
      " [1.9061549]\n",
      " [1.2303988]\n",
      " [1.696307 ]\n",
      " [2.1016874]\n",
      " [2.1367154]\n",
      " [1.763719 ]\n",
      " [1.0955813]\n",
      " [1.3772529]\n",
      " [1.8155706]\n",
      " [2.3681078]\n",
      " [1.7160223]\n",
      " [1.9679455]\n",
      " [1.7235342]\n",
      " [1.0959089]\n",
      " [1.9955366]\n",
      " [1.0773177]\n",
      " [1.3445134]]\n"
     ]
    }
   ],
   "source": [
    "\n",
    "init = tf.global_variables_initializer()\n",
    "with tf.Session() as session:\n",
    "    session.run(init)\n",
    "    print(session.run(Wxb, feed_dict = {x:x_values}))"
   ]
  },
  {
   "cell_type": "code",
   "execution_count": null,
   "metadata": {
    "collapsed": true
   },
   "outputs": [],
   "source": []
  }
 ],
 "metadata": {
  "anaconda-cloud": {},
  "kernelspec": {
   "display_name": "Python [conda env:dlnd]",
   "language": "python",
   "name": "conda-env-dlnd-py"
  },
  "language_info": {
   "codemirror_mode": {
    "name": "ipython",
    "version": 3
   },
   "file_extension": ".py",
   "mimetype": "text/x-python",
   "name": "python",
   "nbconvert_exporter": "python",
   "pygments_lexer": "ipython3",
   "version": "3.6.0"
  }
 },
 "nbformat": 4,
 "nbformat_minor": 1
}
