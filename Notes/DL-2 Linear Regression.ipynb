{
 "cells": [
  {
   "cell_type": "code",
   "execution_count": 2,
   "metadata": {
    "collapsed": true
   },
   "outputs": [],
   "source": [
    "import tensorflow as tf\n",
    "import numpy as np"
   ]
  },
  {
   "cell_type": "markdown",
   "metadata": {},
   "source": [
    "# Generate synthetic data"
   ]
  },
  {
   "cell_type": "code",
   "execution_count": 3,
   "metadata": {
    "collapsed": true
   },
   "outputs": [],
   "source": [
    "target_weight = np.array([[1, 2, 3, 4]], np.float32).transpose()\n",
    "XX = np.random.rand(10000, 4)\n",
    "noise = (np.random.rand(10000, 4) - 0.5) / 1000\n",
    "YY = np.dot(XX + noise, target_weight)"
   ]
  },
  {
   "cell_type": "code",
   "execution_count": 19,
   "metadata": {
    "collapsed": false
   },
   "outputs": [
    {
     "name": "stdout",
     "output_type": "stream",
     "text": [
      "X:\n",
      "[[0.92575729 0.38206382 0.88144572 0.86213619]\n",
      " [0.58663468 0.51175249 0.25049428 0.86187221]\n",
      " [0.60900929 0.44115502 0.21158051 0.53569467]\n",
      " [0.02499051 0.34189401 0.72064258 0.58264312]\n",
      " [0.69416606 0.37426029 0.8029822  0.77704349]]\n",
      "Y:\n",
      "(10000, 1)\n"
     ]
    }
   ],
   "source": [
    "print(\"X:\")\n",
    "print(XX[:5, :])\n",
    "print(\"Y:\")\n",
    "print(YY.shape)"
   ]
  },
  {
   "cell_type": "markdown",
   "metadata": {},
   "source": [
    "# Let's build the model"
   ]
  },
  {
   "cell_type": "code",
   "execution_count": 9,
   "metadata": {
    "collapsed": true
   },
   "outputs": [],
   "source": [
    "# input data\n",
    "X = tf.placeholder(tf.float32, [None, 4])\n",
    "y = tf.placeholder(tf.float32, [None, 1])\n",
    "\n",
    "# model\n",
    "w = tf.Variable(tf.random_uniform([4, 1]))\n",
    "\n",
    "# predictor algorithm\n",
    "def f(X):\n",
    "    return tf.matmul(X, w)"
   ]
  },
  {
   "cell_type": "code",
   "execution_count": 12,
   "metadata": {
    "collapsed": true
   },
   "outputs": [],
   "source": [
    "## Objective function\n",
    "def objective(X, y):\n",
    "    y_hat = f(X)\n",
    "    return tf.reduce_sum(tf.square(tf.subtract(y, y_hat)))"
   ]
  },
  {
   "cell_type": "code",
   "execution_count": 16,
   "metadata": {
    "collapsed": false
   },
   "outputs": [
    {
     "name": "stdout",
     "output_type": "stream",
     "text": [
      "Starting with a random model\n",
      "[[0.49668026]\n",
      " [0.44268155]\n",
      " [0.6592418 ]\n",
      " [0.14575815]]\n",
      "Trained Model:\n",
      "[[1.0002904]\n",
      " [2.0001597]\n",
      " [2.9999318]\n",
      " [3.999651 ]]\n"
     ]
    }
   ],
   "source": [
    "step = tf.constant(1e-5)\n",
    "gradient = tf.gradients(objective(X, y), [w])\n",
    "\n",
    "with tf.Session() as session:\n",
    "    init = tf.global_variables_initializer()\n",
    "    session.run(init)\n",
    "    \n",
    "    print(\"Starting with a random model\")\n",
    "    print(session.run(w))\n",
    "    \n",
    "    for _ in range(500):\n",
    "        # w += -step * gradient\n",
    "        update_weights = tf.assign_add(w, tf.multiply(-step, gradient[0]))\n",
    "        session.run(update_weights, feed_dict = {X:XX, y: YY})\n",
    "    \n",
    "    print(\"Trained Model:\")\n",
    "    print(session.run(w))"
   ]
  },
  {
   "cell_type": "markdown",
   "metadata": {},
   "source": [
    "# Optimize our training"
   ]
  },
  {
   "cell_type": "code",
   "execution_count": 27,
   "metadata": {
    "collapsed": true
   },
   "outputs": [],
   "source": [
    "step = tf.constant(1e-4)\n",
    "epochs = 1000\n",
    "\n",
    "optimizer = tf.train.GradientDescentOptimizer(step)\n",
    "train = optimizer.minimize(objective(X,y), var_list=[w])\n"
   ]
  },
  {
   "cell_type": "code",
   "execution_count": 28,
   "metadata": {
    "collapsed": false
   },
   "outputs": [
    {
     "name": "stdout",
     "output_type": "stream",
     "text": [
      "Starting with a random weight\n",
      "[[0.0032891 ]\n",
      " [0.04038525]\n",
      " [0.83338606]\n",
      " [0.15113509]]\n",
      "Trained Model\n",
      "[[nan]\n",
      " [nan]\n",
      " [nan]\n",
      " [nan]]\n"
     ]
    }
   ],
   "source": [
    "\n",
    "\n",
    "with tf.Session() as session:\n",
    "    # init\n",
    "    session.run(tf.global_variables_initializer())\n",
    "    \n",
    "    print(\"Starting with a random weight\")\n",
    "    print(session.run(w))\n",
    "    \n",
    "    # Learning loop\n",
    "    for _ in range(epochs):\n",
    "        session.run(train, feed_dict={X:XX, y:YY})\n",
    "        \n",
    "    print(\"Trained Model\")\n",
    "    print(session.run(w))"
   ]
  },
  {
   "cell_type": "code",
   "execution_count": null,
   "metadata": {
    "collapsed": true
   },
   "outputs": [],
   "source": []
  }
 ],
 "metadata": {
  "kernelspec": {
   "display_name": "Python [conda env:dlnd]",
   "language": "python",
   "name": "conda-env-dlnd-py"
  },
  "language_info": {
   "codemirror_mode": {
    "name": "ipython",
    "version": 3
   },
   "file_extension": ".py",
   "mimetype": "text/x-python",
   "name": "python",
   "nbconvert_exporter": "python",
   "pygments_lexer": "ipython3",
   "version": "3.6.0"
  }
 },
 "nbformat": 4,
 "nbformat_minor": 1
}
