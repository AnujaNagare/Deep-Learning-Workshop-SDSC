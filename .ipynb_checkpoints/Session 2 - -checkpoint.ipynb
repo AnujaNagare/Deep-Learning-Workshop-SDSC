{
 "cells": [
  {
   "cell_type": "markdown",
   "metadata": {},
   "source": [
    "### Generate synthetic data"
   ]
  },
  {
   "cell_type": "code",
   "execution_count": 2,
   "metadata": {
    "collapsed": true
   },
   "outputs": [],
   "source": [
    "import tensorflow as tf\n",
    "import numpy as np"
   ]
  },
  {
   "cell_type": "code",
   "execution_count": 7,
   "metadata": {
    "collapsed": true
   },
   "outputs": [],
   "source": [
    "target_weight = np.array([[1, 2, 3, 4]], np.float32).transpose()\n",
    "XX = np.random.rand(10000, 4)\n",
    "noise = (np.random.rand(10000, 4) - 0.5) / 1000\n",
    "YY = np.dot(XX, target_weight)"
   ]
  },
  {
   "cell_type": "code",
   "execution_count": 9,
   "metadata": {},
   "outputs": [
    {
     "name": "stdout",
     "output_type": "stream",
     "text": [
      "X:\n",
      " [[ 0.96049528  0.20455355  0.73054506  0.09479305]\n",
      " [ 0.49245238  0.96717609  0.04033945  0.82936058]\n",
      " [ 0.76320494  0.24568651  0.77756188  0.11671114]\n",
      " [ 0.94868698  0.5674835   0.67602836  0.37196373]\n",
      " [ 0.990221    0.30814743  0.75338989  0.09544521]]\n",
      "X:\n",
      " [[ 3.94040975]\n",
      " [ 5.86526523]\n",
      " [ 4.05410816]\n",
      " [ 5.59959397]\n",
      " [ 4.24846637]]\n"
     ]
    }
   ],
   "source": [
    "print(\"X:\\n\", XX[:5, :])\n",
    "print(\"X:\\n\", YY[:5, :])"
   ]
  },
  {
   "cell_type": "markdown",
   "metadata": {},
   "source": [
    "### Building Model"
   ]
  },
  {
   "cell_type": "code",
   "execution_count": 37,
   "metadata": {
    "collapsed": true
   },
   "outputs": [],
   "source": [
    "X = tf.placeholder(tf.float32, [None, 4])\n",
    "y = tf.placeholder(tf.float32, [None, 1])\n",
    "\n",
    "# Model\n",
    "w =tf.Variable(tf.random_uniform([4, 1]))\n",
    "\n",
    "# predictor algorithm\n",
    "def f(X):\n",
    "    return tf.matmul(X, w)"
   ]
  },
  {
   "cell_type": "code",
   "execution_count": 44,
   "metadata": {},
   "outputs": [],
   "source": [
    "# Object function\n",
    "\n",
    "def objective(X, y):\n",
    "    y_hat = f(X)\n",
    "    return tf.reduce_sum(tf.square(tf.subtract(y, y_hat)))    "
   ]
  },
  {
   "cell_type": "code",
   "execution_count": 49,
   "metadata": {},
   "outputs": [
    {
     "name": "stdout",
     "output_type": "stream",
     "text": [
      "Starting with a random model\n",
      "[[ 0.83729351]\n",
      " [ 0.57792377]\n",
      " [ 0.61691022]\n",
      " [ 0.49407244]]\n",
      "Trained Model:\n",
      " [[ 1.32300401]\n",
      " [ 2.09319472]\n",
      " [ 2.89959621]\n",
      " [ 3.68825936]]\n"
     ]
    }
   ],
   "source": [
    "step = tf.constant(1e-5)\n",
    "gradient = tf.gradients(objective(X, y), [w])\n",
    "\n",
    "with tf.Session() as session:\n",
    "    init = tf.global_variables_initializer()\n",
    "    session.run(init)\n",
    "    print('Starting with a random model')\n",
    "    print(session.run(w))\n",
    "    \n",
    "    for _ in range(100):\n",
    "#         w += -step * gradient\n",
    "        update_weights = (tf.assign_add(w, tf.multiply(-step, gradient[0])))\n",
    "        session.run(update_weights, feed_dict={X : XX, y:YY})\n",
    "    print(\"Trained Model:\\n\" , session.run(w))\n",
    "        "
   ]
  },
  {
   "cell_type": "markdown",
   "metadata": {},
   "source": [
    "### Optimize our training"
   ]
  },
  {
   "cell_type": "code",
   "execution_count": 61,
   "metadata": {},
   "outputs": [],
   "source": [
    "step = tf.constant(1e-5)\n",
    "epochs= 1000\n",
    "optimizer = tf.train.GradientDescentOptimizer(step)\n",
    "train = optimizer.minimize(objective(X, y), var_list=[w])"
   ]
  },
  {
   "cell_type": "code",
   "execution_count": 63,
   "metadata": {},
   "outputs": [
    {
     "name": "stdout",
     "output_type": "stream",
     "text": [
      "Starting with random weights:\n",
      " [[ 0.85277069]\n",
      " [ 0.12695432]\n",
      " [ 0.68666494]\n",
      " [ 0.87738693]]\n",
      "Traning Model: \n",
      " [[ 1.00000513]\n",
      " [ 2.00000596]\n",
      " [ 2.99999428]\n",
      " [ 3.99999428]]\n"
     ]
    }
   ],
   "source": [
    "\n",
    "with tf.Session() as session:\n",
    "    # init\n",
    "    session.run(tf.global_variables_initializer())\n",
    "    print(\"Starting with random weights:\\n\", session.run(w))\n",
    "    \n",
    "    # Learning Loop\n",
    "    for _ in range(epochs):\n",
    "        session.run(train, feed_dict={X:XX, y:YY})\n",
    "        \n",
    "    print(\"Traning Model: \\n\", session.run(w))\n",
    "    "
   ]
  },
  {
   "cell_type": "code",
   "execution_count": null,
   "metadata": {
    "collapsed": true
   },
   "outputs": [],
   "source": []
  }
 ],
 "metadata": {
  "kernelspec": {
   "display_name": "Python 3",
   "language": "python",
   "name": "python3"
  },
  "language_info": {
   "codemirror_mode": {
    "name": "ipython",
    "version": 3
   },
   "file_extension": ".py",
   "mimetype": "text/x-python",
   "name": "python",
   "nbconvert_exporter": "python",
   "pygments_lexer": "ipython3",
   "version": "3.6.3"
  }
 },
 "nbformat": 4,
 "nbformat_minor": 2
}
